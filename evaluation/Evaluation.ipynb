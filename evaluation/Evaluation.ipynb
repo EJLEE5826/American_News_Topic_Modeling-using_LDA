{
 "cells": [
  {
   "cell_type": "markdown",
   "metadata": {
    "colab_type": "text",
    "id": "_h3bsoaJ3iNI"
   },
   "source": [
    "# Evaluation\n",
    "\n",
    "reference : https://datascienceplus.com/evaluation-of-topic-modeling-topic-coherence/"
   ]
  },
  {
   "cell_type": "code",
   "execution_count": 1,
   "metadata": {
    "colab": {},
    "colab_type": "code",
    "id": "b4YmcdUJ3iNL"
   },
   "outputs": [],
   "source": [
    "import numpy as np\n",
    "import logging\n",
    "import json\n",
    "import warnings\n",
    "warnings.filterwarnings('ignore')  # To ignore all warnings that arise here to enhance clarity\n",
    "\n",
    "from gensim.models.coherencemodel import CoherenceModel\n",
    "from gensim.models.ldamodel import LdaModel\n",
    "from gensim.corpora.dictionary import Dictionary\n",
    "from numpy import array\n"
   ]
  },
  {
   "cell_type": "code",
   "execution_count": 2,
   "metadata": {
    "colab": {},
    "colab_type": "code",
    "id": "6g38dotD3iNR"
   },
   "outputs": [],
   "source": [
    "temp_file = \"./LDAmodel/conserv_25.model\"\n",
    "lda_model = LdaModel.load(temp_file)"
   ]
  },
  {
   "cell_type": "code",
   "execution_count": 3,
   "metadata": {
    "colab": {},
    "colab_type": "code",
    "id": "Dezemrb93iNX"
   },
   "outputs": [],
   "source": [
    "f = open(\"new_conserv.txt\", 'r', encoding = \"UTF8\")\n",
    "# 데이터 받아옴\n",
    "dataset = []\n",
    "while True:\n",
    "    line = f.readline()\n",
    "    if not line: break\n",
    "    dataset += [line.split(' ')]\n",
    "f.close()\n",
    "\n",
    "dct = Dictionary(dataset)\n",
    "corpus = [dct.doc2bow(line) for line in dataset]"
   ]
  },
  {
   "cell_type": "code",
   "execution_count": 4,
   "metadata": {
    "colab": {},
    "colab_type": "code",
    "id": "hfxkhmBb3iNb",
    "outputId": "778c1159-e92a-495e-b93c-3681251023cc"
   },
   "outputs": [
    {
     "name": "stdout",
     "output_type": "stream",
     "text": [
      "\n",
      "Coherence Score_cv:  0.37130363075637157\n"
     ]
    }
   ],
   "source": [
    "# Compute Coherence Score using c_v\n",
    "coherence_model_lda_cv = CoherenceModel(model=lda_model, texts=dataset, dictionary=dct, coherence='c_v')\n",
    "coherence_lda_cv = coherence_model_lda_cv.get_coherence()\n",
    "print('\\nCoherence Score_cv: ', coherence_lda_cv)\n"
   ]
  },
  {
   "cell_type": "code",
   "execution_count": 5,
   "metadata": {
    "colab": {},
    "colab_type": "code",
    "id": "G1DOTPzM3iNk",
    "outputId": "f35ed6d8-a612-4552-dbef-63c681ae6439"
   },
   "outputs": [
    {
     "name": "stdout",
     "output_type": "stream",
     "text": [
      "\n",
      "Coherence Score_umass:  -1.7807449941165883\n"
     ]
    }
   ],
   "source": [
    "# Compute Coherence Score using UMass\n",
    "coherence_model_lda_umass = CoherenceModel(model=lda_model, texts=dataset, dictionary=dct, coherence=\"u_mass\")\n",
    "coherence_lda_umass = coherence_model_lda_umass.get_coherence()\n",
    "print('\\nCoherence Score_umass: ', coherence_lda_umass)\n",
    "\n",
    "#############################\n",
    "# 논문 참고해서 다른 모델 정확도랑 비교하기\n",
    "#http://citeseerx.ist.psu.edu/viewdoc/download?doi=10.1.1.662.7267&rep=rep1&type=pdf\n",
    "\n",
    "# u_mass에 대한 설명\n",
    "# http://qpleple.com/topic-coherence-to-evaluate-topic-models/\n",
    "############################"
   ]
  },
  {
   "cell_type": "code",
   "execution_count": 6,
   "metadata": {},
   "outputs": [],
   "source": [
    "# Save Coherence Score\n",
    "f = open(\"log_CoherenceScore.txt\", 'a')\n",
    "result = list(map(str,[\"\\n\",temp_file, \"c_v:\", coherence_lda_cv, \"u_mass:\", coherence_lda_umass]))\n",
    "f.write(\" \".join(result))\n",
    "f.close()"
   ]
  },
  {
   "cell_type": "code",
   "execution_count": 7,
   "metadata": {
    "colab": {},
    "colab_type": "code",
    "id": "Yk2GC4ph3iNq"
   },
   "outputs": [],
   "source": [
    "def compute_coherence_values(dictionary, corpus, texts, limit, start=2, step=3):\n",
    "    \"\"\"\n",
    "    Compute c_v coherence for various number of topics\n",
    "\n",
    "    Parameters:\n",
    "    ----------\n",
    "    dictionary : Gensim dictionary\n",
    "    corpus : Gensim corpus\n",
    "    texts : List of input texts\n",
    "    limit : Max num of topics\n",
    "\n",
    "    Returns:\n",
    "    -------\n",
    "    model_list : List of LDA topic models\n",
    "    coherence_values : Coherence values corresponding to the LDA model with respective number of topics\n",
    "    \"\"\"\n",
    "    coherence_values = []\n",
    "    model_list = []\n",
    "    for num_topics in range(start, limit, step):\n",
    "        model=LdaModel(corpus=corpus, id2word=dictionary, num_topics=num_topics)\n",
    "        model_list.append(model)\n",
    "        coherencemodel = CoherenceModel(model=model, texts=texts, dictionary=dictionary, coherence='c_v')\n",
    "        coherence_values.append(coherencemodel.get_coherence())\n",
    "\n",
    "    return model_list, coherence_values"
   ]
  },
  {
   "cell_type": "code",
   "execution_count": 8,
   "metadata": {
    "colab": {},
    "colab_type": "code",
    "id": "6rzvjiMN3iNv",
    "outputId": "f07ddb05-aba8-4ea0-dc45-3b80b01ed3c4"
   },
   "outputs": [],
   "source": [
    "model_list, coherence_values = compute_coherence_values(dictionary=dct, corpus=corpus, texts=dataset, start=2, limit=40, step=6)"
   ]
  },
  {
   "cell_type": "code",
   "execution_count": 10,
   "metadata": {
    "colab": {},
    "colab_type": "code",
    "id": "UkF5EgKN3iN5",
    "outputId": "35f9cb91-41f6-49e2-e4db-2de039bbaa70"
   },
   "outputs": [
    {
     "data": {
      "image/png": "[encoded data removed]",
      "text/plain": [
       "<Figure size 432x288 with 1 Axes>"
      ]
     },
     "metadata": {
      "needs_background": "light"
     },
     "output_type": "display_data"
    }
   ],
   "source": [
    "# Show graph\n",
    "import matplotlib.pyplot as plt\n",
    "%matplotlib inline\n",
    "limit=40; start=2; step=6;\n",
    "x = range(start, limit, step)\n",
    "plt.plot(x, coherence_values)\n",
    "plt.xlabel(\"Num Topics\")\n",
    "plt.ylabel(\"Coherence score\")\n",
    "plt.legend((\"coherence_values\"), loc='best')\n",
    "\n",
    "fig = plt.gcf()\n",
    "plt.show()\n",
    "fig.savefig('conserv_25.png')"
   ]
  }
 ],
 "metadata": {
  "colab": {
   "collapsed_sections": [],
   "name": "Evaluation.ipynb",
   "provenance": [],
   "version": "0.3.2"
  },
  "kernelspec": {
   "display_name": "TF",
   "language": "python",
   "name": "tf"
  },
  "language_info": {
   "codemirror_mode": {
    "name": "ipython",
    "version": 3
   },
   "file_extension": ".py",
   "mimetype": "text/x-python",
   "name": "python",
   "nbconvert_exporter": "python",
   "pygments_lexer": "ipython3",
   "version": "3.6.8"
  }
 },
 "nbformat": 4,
 "nbformat_minor": 1
}
